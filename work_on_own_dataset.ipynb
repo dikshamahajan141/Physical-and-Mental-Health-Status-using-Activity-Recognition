{
 "cells": [
  {
   "cell_type": "code",
   "execution_count": 43,
   "id": "24c574ae",
   "metadata": {},
   "outputs": [],
   "source": [
    "import numpy as np\n",
    "import pandas as pd\n",
    "import matplotlib.pyplot as plt\n",
    "import seaborn as sns\n",
    "\n",
    "from sklearn.model_selection import train_test_split\n",
    "from sklearn.metrics import mean_absolute_error\n",
    "\n",
    "import warnings\n",
    "warnings.filterwarnings('ignore')"
   ]
  },
  {
   "cell_type": "code",
   "execution_count": 44,
   "id": "3999d71c",
   "metadata": {},
   "outputs": [],
   "source": [
    "df = pd.read_excel(\"D:\\own_data_1.xlsx\")"
   ]
  },
  {
   "cell_type": "code",
   "execution_count": 45,
   "id": "b3297abd",
   "metadata": {},
   "outputs": [
    {
     "data": {
      "text/html": [
       "<div>\n",
       "<style scoped>\n",
       "    .dataframe tbody tr th:only-of-type {\n",
       "        vertical-align: middle;\n",
       "    }\n",
       "\n",
       "    .dataframe tbody tr th {\n",
       "        vertical-align: top;\n",
       "    }\n",
       "\n",
       "    .dataframe thead th {\n",
       "        text-align: right;\n",
       "    }\n",
       "</style>\n",
       "<table border=\"1\" class=\"dataframe\">\n",
       "  <thead>\n",
       "    <tr style=\"text-align: right;\">\n",
       "      <th></th>\n",
       "      <th>Date</th>\n",
       "      <th>Timestamp</th>\n",
       "      <th>GyroscopeX</th>\n",
       "      <th>GyroscopeY</th>\n",
       "      <th>GyroscopeZ</th>\n",
       "      <th>AccelerationX</th>\n",
       "      <th>AccelerationY</th>\n",
       "      <th>AccelerationZ</th>\n",
       "      <th>Label</th>\n",
       "    </tr>\n",
       "  </thead>\n",
       "  <tbody>\n",
       "    <tr>\n",
       "      <th>0</th>\n",
       "      <td>2022-07-26 19:24:15</td>\n",
       "      <td>1.658844e+09</td>\n",
       "      <td>-0.424806</td>\n",
       "      <td>-0.654120</td>\n",
       "      <td>0.260132</td>\n",
       "      <td>-0.002014</td>\n",
       "      <td>-0.340256</td>\n",
       "      <td>-1.272156</td>\n",
       "      <td>walking_upstairs</td>\n",
       "    </tr>\n",
       "    <tr>\n",
       "      <th>1</th>\n",
       "      <td>2022-07-26 19:24:15</td>\n",
       "      <td>1.658844e+09</td>\n",
       "      <td>-0.116530</td>\n",
       "      <td>-0.400120</td>\n",
       "      <td>0.165681</td>\n",
       "      <td>-0.114716</td>\n",
       "      <td>-0.278885</td>\n",
       "      <td>-1.183762</td>\n",
       "      <td>walking_upstairs</td>\n",
       "    </tr>\n",
       "    <tr>\n",
       "      <th>2</th>\n",
       "      <td>2022-07-26 19:24:15</td>\n",
       "      <td>1.658844e+09</td>\n",
       "      <td>0.251794</td>\n",
       "      <td>-0.007258</td>\n",
       "      <td>0.211877</td>\n",
       "      <td>-0.121811</td>\n",
       "      <td>-0.246017</td>\n",
       "      <td>-1.011688</td>\n",
       "      <td>walking_upstairs</td>\n",
       "    </tr>\n",
       "    <tr>\n",
       "      <th>3</th>\n",
       "      <td>2022-07-26 19:24:15</td>\n",
       "      <td>1.658844e+09</td>\n",
       "      <td>0.442580</td>\n",
       "      <td>-0.675886</td>\n",
       "      <td>0.014152</td>\n",
       "      <td>-0.100815</td>\n",
       "      <td>-0.295563</td>\n",
       "      <td>-0.878433</td>\n",
       "      <td>walking_upstairs</td>\n",
       "    </tr>\n",
       "    <tr>\n",
       "      <th>4</th>\n",
       "      <td>2022-07-26 19:24:15</td>\n",
       "      <td>1.658844e+09</td>\n",
       "      <td>0.395401</td>\n",
       "      <td>-0.364630</td>\n",
       "      <td>-0.572730</td>\n",
       "      <td>-0.142670</td>\n",
       "      <td>-0.330124</td>\n",
       "      <td>-0.833084</td>\n",
       "      <td>walking_upstairs</td>\n",
       "    </tr>\n",
       "  </tbody>\n",
       "</table>\n",
       "</div>"
      ],
      "text/plain": [
       "                 Date     Timestamp  GyroscopeX  GyroscopeY  GyroscopeZ  \\\n",
       "0 2022-07-26 19:24:15  1.658844e+09   -0.424806   -0.654120    0.260132   \n",
       "1 2022-07-26 19:24:15  1.658844e+09   -0.116530   -0.400120    0.165681   \n",
       "2 2022-07-26 19:24:15  1.658844e+09    0.251794   -0.007258    0.211877   \n",
       "3 2022-07-26 19:24:15  1.658844e+09    0.442580   -0.675886    0.014152   \n",
       "4 2022-07-26 19:24:15  1.658844e+09    0.395401   -0.364630   -0.572730   \n",
       "\n",
       "   AccelerationX  AccelerationY  AccelerationZ             Label  \n",
       "0      -0.002014      -0.340256      -1.272156  walking_upstairs  \n",
       "1      -0.114716      -0.278885      -1.183762  walking_upstairs  \n",
       "2      -0.121811      -0.246017      -1.011688  walking_upstairs  \n",
       "3      -0.100815      -0.295563      -0.878433  walking_upstairs  \n",
       "4      -0.142670      -0.330124      -0.833084  walking_upstairs  "
      ]
     },
     "execution_count": 45,
     "metadata": {},
     "output_type": "execute_result"
    }
   ],
   "source": [
    "df.head()"
   ]
  },
  {
   "cell_type": "code",
   "execution_count": 46,
   "id": "666999b4",
   "metadata": {},
   "outputs": [
    {
     "data": {
      "text/html": [
       "<div>\n",
       "<style scoped>\n",
       "    .dataframe tbody tr th:only-of-type {\n",
       "        vertical-align: middle;\n",
       "    }\n",
       "\n",
       "    .dataframe tbody tr th {\n",
       "        vertical-align: top;\n",
       "    }\n",
       "\n",
       "    .dataframe thead th {\n",
       "        text-align: right;\n",
       "    }\n",
       "</style>\n",
       "<table border=\"1\" class=\"dataframe\">\n",
       "  <thead>\n",
       "    <tr style=\"text-align: right;\">\n",
       "      <th></th>\n",
       "      <th>Date</th>\n",
       "      <th>Timestamp</th>\n",
       "      <th>GyroscopeX</th>\n",
       "      <th>GyroscopeY</th>\n",
       "      <th>GyroscopeZ</th>\n",
       "      <th>AccelerationX</th>\n",
       "      <th>AccelerationY</th>\n",
       "      <th>AccelerationZ</th>\n",
       "      <th>Label</th>\n",
       "    </tr>\n",
       "  </thead>\n",
       "  <tbody>\n",
       "    <tr>\n",
       "      <th>8612</th>\n",
       "      <td>2022-07-29 09:34:53</td>\n",
       "      <td>1.659068e+09</td>\n",
       "      <td>0.130778</td>\n",
       "      <td>0.099054</td>\n",
       "      <td>0.273642</td>\n",
       "      <td>0.111298</td>\n",
       "      <td>-0.047180</td>\n",
       "      <td>-0.916061</td>\n",
       "      <td>laying</td>\n",
       "    </tr>\n",
       "    <tr>\n",
       "      <th>8613</th>\n",
       "      <td>2022-07-29 09:34:53</td>\n",
       "      <td>1.659068e+09</td>\n",
       "      <td>0.323205</td>\n",
       "      <td>0.334678</td>\n",
       "      <td>0.361874</td>\n",
       "      <td>0.203308</td>\n",
       "      <td>-0.080200</td>\n",
       "      <td>-0.987793</td>\n",
       "      <td>laying</td>\n",
       "    </tr>\n",
       "    <tr>\n",
       "      <th>8614</th>\n",
       "      <td>2022-07-29 09:34:53</td>\n",
       "      <td>1.659068e+09</td>\n",
       "      <td>0.393601</td>\n",
       "      <td>-0.180618</td>\n",
       "      <td>0.262662</td>\n",
       "      <td>0.058792</td>\n",
       "      <td>-0.114822</td>\n",
       "      <td>-0.916382</td>\n",
       "      <td>laying</td>\n",
       "    </tr>\n",
       "    <tr>\n",
       "      <th>8615</th>\n",
       "      <td>2022-07-29 09:34:53</td>\n",
       "      <td>1.659068e+09</td>\n",
       "      <td>0.284711</td>\n",
       "      <td>-0.214343</td>\n",
       "      <td>0.244468</td>\n",
       "      <td>0.199036</td>\n",
       "      <td>-0.138046</td>\n",
       "      <td>-0.965408</td>\n",
       "      <td>laying</td>\n",
       "    </tr>\n",
       "    <tr>\n",
       "      <th>8616</th>\n",
       "      <td>2022-07-29 09:34:53</td>\n",
       "      <td>1.659068e+09</td>\n",
       "      <td>0.154983</td>\n",
       "      <td>-0.307686</td>\n",
       "      <td>0.265722</td>\n",
       "      <td>0.118591</td>\n",
       "      <td>-0.117081</td>\n",
       "      <td>-0.955917</td>\n",
       "      <td>laying</td>\n",
       "    </tr>\n",
       "  </tbody>\n",
       "</table>\n",
       "</div>"
      ],
      "text/plain": [
       "                    Date     Timestamp  GyroscopeX  GyroscopeY  GyroscopeZ  \\\n",
       "8612 2022-07-29 09:34:53  1.659068e+09    0.130778    0.099054    0.273642   \n",
       "8613 2022-07-29 09:34:53  1.659068e+09    0.323205    0.334678    0.361874   \n",
       "8614 2022-07-29 09:34:53  1.659068e+09    0.393601   -0.180618    0.262662   \n",
       "8615 2022-07-29 09:34:53  1.659068e+09    0.284711   -0.214343    0.244468   \n",
       "8616 2022-07-29 09:34:53  1.659068e+09    0.154983   -0.307686    0.265722   \n",
       "\n",
       "      AccelerationX  AccelerationY  AccelerationZ   Label  \n",
       "8612       0.111298      -0.047180      -0.916061  laying  \n",
       "8613       0.203308      -0.080200      -0.987793  laying  \n",
       "8614       0.058792      -0.114822      -0.916382  laying  \n",
       "8615       0.199036      -0.138046      -0.965408  laying  \n",
       "8616       0.118591      -0.117081      -0.955917  laying  "
      ]
     },
     "execution_count": 46,
     "metadata": {},
     "output_type": "execute_result"
    }
   ],
   "source": [
    "df.tail()"
   ]
  },
  {
   "cell_type": "code",
   "execution_count": 47,
   "id": "e5cae185",
   "metadata": {},
   "outputs": [],
   "source": [
    "df = df.drop('Timestamp', axis=1)"
   ]
  },
  {
   "cell_type": "code",
   "execution_count": 48,
   "id": "7be6aa99",
   "metadata": {},
   "outputs": [
    {
     "data": {
      "text/html": [
       "<div>\n",
       "<style scoped>\n",
       "    .dataframe tbody tr th:only-of-type {\n",
       "        vertical-align: middle;\n",
       "    }\n",
       "\n",
       "    .dataframe tbody tr th {\n",
       "        vertical-align: top;\n",
       "    }\n",
       "\n",
       "    .dataframe thead th {\n",
       "        text-align: right;\n",
       "    }\n",
       "</style>\n",
       "<table border=\"1\" class=\"dataframe\">\n",
       "  <thead>\n",
       "    <tr style=\"text-align: right;\">\n",
       "      <th></th>\n",
       "      <th>Date</th>\n",
       "      <th>GyroscopeX</th>\n",
       "      <th>GyroscopeY</th>\n",
       "      <th>GyroscopeZ</th>\n",
       "      <th>AccelerationX</th>\n",
       "      <th>AccelerationY</th>\n",
       "      <th>AccelerationZ</th>\n",
       "      <th>Label</th>\n",
       "    </tr>\n",
       "  </thead>\n",
       "  <tbody>\n",
       "    <tr>\n",
       "      <th>0</th>\n",
       "      <td>2022-07-26 19:24:15</td>\n",
       "      <td>-0.424806</td>\n",
       "      <td>-0.654120</td>\n",
       "      <td>0.260132</td>\n",
       "      <td>-0.002014</td>\n",
       "      <td>-0.340256</td>\n",
       "      <td>-1.272156</td>\n",
       "      <td>walking_upstairs</td>\n",
       "    </tr>\n",
       "    <tr>\n",
       "      <th>1</th>\n",
       "      <td>2022-07-26 19:24:15</td>\n",
       "      <td>-0.116530</td>\n",
       "      <td>-0.400120</td>\n",
       "      <td>0.165681</td>\n",
       "      <td>-0.114716</td>\n",
       "      <td>-0.278885</td>\n",
       "      <td>-1.183762</td>\n",
       "      <td>walking_upstairs</td>\n",
       "    </tr>\n",
       "    <tr>\n",
       "      <th>2</th>\n",
       "      <td>2022-07-26 19:24:15</td>\n",
       "      <td>0.251794</td>\n",
       "      <td>-0.007258</td>\n",
       "      <td>0.211877</td>\n",
       "      <td>-0.121811</td>\n",
       "      <td>-0.246017</td>\n",
       "      <td>-1.011688</td>\n",
       "      <td>walking_upstairs</td>\n",
       "    </tr>\n",
       "    <tr>\n",
       "      <th>3</th>\n",
       "      <td>2022-07-26 19:24:15</td>\n",
       "      <td>0.442580</td>\n",
       "      <td>-0.675886</td>\n",
       "      <td>0.014152</td>\n",
       "      <td>-0.100815</td>\n",
       "      <td>-0.295563</td>\n",
       "      <td>-0.878433</td>\n",
       "      <td>walking_upstairs</td>\n",
       "    </tr>\n",
       "    <tr>\n",
       "      <th>4</th>\n",
       "      <td>2022-07-26 19:24:15</td>\n",
       "      <td>0.395401</td>\n",
       "      <td>-0.364630</td>\n",
       "      <td>-0.572730</td>\n",
       "      <td>-0.142670</td>\n",
       "      <td>-0.330124</td>\n",
       "      <td>-0.833084</td>\n",
       "      <td>walking_upstairs</td>\n",
       "    </tr>\n",
       "  </tbody>\n",
       "</table>\n",
       "</div>"
      ],
      "text/plain": [
       "                 Date  GyroscopeX  GyroscopeY  GyroscopeZ  AccelerationX  \\\n",
       "0 2022-07-26 19:24:15   -0.424806   -0.654120    0.260132      -0.002014   \n",
       "1 2022-07-26 19:24:15   -0.116530   -0.400120    0.165681      -0.114716   \n",
       "2 2022-07-26 19:24:15    0.251794   -0.007258    0.211877      -0.121811   \n",
       "3 2022-07-26 19:24:15    0.442580   -0.675886    0.014152      -0.100815   \n",
       "4 2022-07-26 19:24:15    0.395401   -0.364630   -0.572730      -0.142670   \n",
       "\n",
       "   AccelerationY  AccelerationZ             Label  \n",
       "0      -0.340256      -1.272156  walking_upstairs  \n",
       "1      -0.278885      -1.183762  walking_upstairs  \n",
       "2      -0.246017      -1.011688  walking_upstairs  \n",
       "3      -0.295563      -0.878433  walking_upstairs  \n",
       "4      -0.330124      -0.833084  walking_upstairs  "
      ]
     },
     "execution_count": 48,
     "metadata": {},
     "output_type": "execute_result"
    }
   ],
   "source": [
    "df.head()"
   ]
  },
  {
   "cell_type": "code",
   "execution_count": 49,
   "id": "c6045705",
   "metadata": {},
   "outputs": [],
   "source": [
    "\n",
    "df = df.drop('Date', axis = 1)"
   ]
  },
  {
   "cell_type": "code",
   "execution_count": 50,
   "id": "166be940",
   "metadata": {},
   "outputs": [
    {
     "data": {
      "text/html": [
       "<div>\n",
       "<style scoped>\n",
       "    .dataframe tbody tr th:only-of-type {\n",
       "        vertical-align: middle;\n",
       "    }\n",
       "\n",
       "    .dataframe tbody tr th {\n",
       "        vertical-align: top;\n",
       "    }\n",
       "\n",
       "    .dataframe thead th {\n",
       "        text-align: right;\n",
       "    }\n",
       "</style>\n",
       "<table border=\"1\" class=\"dataframe\">\n",
       "  <thead>\n",
       "    <tr style=\"text-align: right;\">\n",
       "      <th></th>\n",
       "      <th>GyroscopeX</th>\n",
       "      <th>GyroscopeY</th>\n",
       "      <th>GyroscopeZ</th>\n",
       "      <th>AccelerationX</th>\n",
       "      <th>AccelerationY</th>\n",
       "      <th>AccelerationZ</th>\n",
       "      <th>Label</th>\n",
       "    </tr>\n",
       "  </thead>\n",
       "  <tbody>\n",
       "    <tr>\n",
       "      <th>0</th>\n",
       "      <td>-0.424806</td>\n",
       "      <td>-0.654120</td>\n",
       "      <td>0.260132</td>\n",
       "      <td>-0.002014</td>\n",
       "      <td>-0.340256</td>\n",
       "      <td>-1.272156</td>\n",
       "      <td>walking_upstairs</td>\n",
       "    </tr>\n",
       "    <tr>\n",
       "      <th>1</th>\n",
       "      <td>-0.116530</td>\n",
       "      <td>-0.400120</td>\n",
       "      <td>0.165681</td>\n",
       "      <td>-0.114716</td>\n",
       "      <td>-0.278885</td>\n",
       "      <td>-1.183762</td>\n",
       "      <td>walking_upstairs</td>\n",
       "    </tr>\n",
       "    <tr>\n",
       "      <th>2</th>\n",
       "      <td>0.251794</td>\n",
       "      <td>-0.007258</td>\n",
       "      <td>0.211877</td>\n",
       "      <td>-0.121811</td>\n",
       "      <td>-0.246017</td>\n",
       "      <td>-1.011688</td>\n",
       "      <td>walking_upstairs</td>\n",
       "    </tr>\n",
       "    <tr>\n",
       "      <th>3</th>\n",
       "      <td>0.442580</td>\n",
       "      <td>-0.675886</td>\n",
       "      <td>0.014152</td>\n",
       "      <td>-0.100815</td>\n",
       "      <td>-0.295563</td>\n",
       "      <td>-0.878433</td>\n",
       "      <td>walking_upstairs</td>\n",
       "    </tr>\n",
       "    <tr>\n",
       "      <th>4</th>\n",
       "      <td>0.395401</td>\n",
       "      <td>-0.364630</td>\n",
       "      <td>-0.572730</td>\n",
       "      <td>-0.142670</td>\n",
       "      <td>-0.330124</td>\n",
       "      <td>-0.833084</td>\n",
       "      <td>walking_upstairs</td>\n",
       "    </tr>\n",
       "  </tbody>\n",
       "</table>\n",
       "</div>"
      ],
      "text/plain": [
       "   GyroscopeX  GyroscopeY  GyroscopeZ  AccelerationX  AccelerationY  \\\n",
       "0   -0.424806   -0.654120    0.260132      -0.002014      -0.340256   \n",
       "1   -0.116530   -0.400120    0.165681      -0.114716      -0.278885   \n",
       "2    0.251794   -0.007258    0.211877      -0.121811      -0.246017   \n",
       "3    0.442580   -0.675886    0.014152      -0.100815      -0.295563   \n",
       "4    0.395401   -0.364630   -0.572730      -0.142670      -0.330124   \n",
       "\n",
       "   AccelerationZ             Label  \n",
       "0      -1.272156  walking_upstairs  \n",
       "1      -1.183762  walking_upstairs  \n",
       "2      -1.011688  walking_upstairs  \n",
       "3      -0.878433  walking_upstairs  \n",
       "4      -0.833084  walking_upstairs  "
      ]
     },
     "execution_count": 50,
     "metadata": {},
     "output_type": "execute_result"
    }
   ],
   "source": [
    "df.head()"
   ]
  },
  {
   "cell_type": "code",
   "execution_count": 51,
   "id": "36241121",
   "metadata": {},
   "outputs": [],
   "source": [
    "activities = df['Label'].unique()"
   ]
  },
  {
   "cell_type": "code",
   "execution_count": 52,
   "id": "9c6f62d6",
   "metadata": {},
   "outputs": [
    {
     "data": {
      "image/png": "[encoded data removed]",
      "text/plain": [
       "<Figure size 864x432 with 1 Axes>"
      ]
     },
     "metadata": {
      "needs_background": "light"
     },
     "output_type": "display_data"
    }
   ],
   "source": [
    "plt.figure(figsize=(12,6))\n",
    "axis=sns.countplot(x=\"Label\",data=df)\n",
    "plt.xticks(x=df['Label'],rotation ='vertical')\n",
    "plt.show()"
   ]
  },
  {
   "cell_type": "code",
   "execution_count": 53,
   "id": "028936ac",
   "metadata": {},
   "outputs": [],
   "source": [
    "X=pd.DataFrame(df.drop(['Label'],axis=1))\n",
    "y=df.Label.values.astype(object)"
   ]
  },
  {
   "cell_type": "code",
   "execution_count": 54,
   "id": "7af49005",
   "metadata": {},
   "outputs": [
    {
     "data": {
      "text/plain": [
       "((8617, 6), (8617,))"
      ]
     },
     "execution_count": 54,
     "metadata": {},
     "output_type": "execute_result"
    }
   ],
   "source": [
    "X.shape, y.shape"
   ]
  },
  {
   "cell_type": "code",
   "execution_count": 55,
   "id": "208a6d11",
   "metadata": {},
   "outputs": [
    {
     "data": {
      "text/html": [
       "<div>\n",
       "<style scoped>\n",
       "    .dataframe tbody tr th:only-of-type {\n",
       "        vertical-align: middle;\n",
       "    }\n",
       "\n",
       "    .dataframe tbody tr th {\n",
       "        vertical-align: top;\n",
       "    }\n",
       "\n",
       "    .dataframe thead th {\n",
       "        text-align: right;\n",
       "    }\n",
       "</style>\n",
       "<table border=\"1\" class=\"dataframe\">\n",
       "  <thead>\n",
       "    <tr style=\"text-align: right;\">\n",
       "      <th></th>\n",
       "      <th>GyroscopeX</th>\n",
       "      <th>GyroscopeY</th>\n",
       "      <th>GyroscopeZ</th>\n",
       "      <th>AccelerationX</th>\n",
       "      <th>AccelerationY</th>\n",
       "      <th>AccelerationZ</th>\n",
       "    </tr>\n",
       "  </thead>\n",
       "  <tbody>\n",
       "    <tr>\n",
       "      <th>0</th>\n",
       "      <td>-0.424806</td>\n",
       "      <td>-0.654120</td>\n",
       "      <td>0.260132</td>\n",
       "      <td>-0.002014</td>\n",
       "      <td>-0.340256</td>\n",
       "      <td>-1.272156</td>\n",
       "    </tr>\n",
       "    <tr>\n",
       "      <th>1</th>\n",
       "      <td>-0.116530</td>\n",
       "      <td>-0.400120</td>\n",
       "      <td>0.165681</td>\n",
       "      <td>-0.114716</td>\n",
       "      <td>-0.278885</td>\n",
       "      <td>-1.183762</td>\n",
       "    </tr>\n",
       "    <tr>\n",
       "      <th>2</th>\n",
       "      <td>0.251794</td>\n",
       "      <td>-0.007258</td>\n",
       "      <td>0.211877</td>\n",
       "      <td>-0.121811</td>\n",
       "      <td>-0.246017</td>\n",
       "      <td>-1.011688</td>\n",
       "    </tr>\n",
       "    <tr>\n",
       "      <th>3</th>\n",
       "      <td>0.442580</td>\n",
       "      <td>-0.675886</td>\n",
       "      <td>0.014152</td>\n",
       "      <td>-0.100815</td>\n",
       "      <td>-0.295563</td>\n",
       "      <td>-0.878433</td>\n",
       "    </tr>\n",
       "    <tr>\n",
       "      <th>4</th>\n",
       "      <td>0.395401</td>\n",
       "      <td>-0.364630</td>\n",
       "      <td>-0.572730</td>\n",
       "      <td>-0.142670</td>\n",
       "      <td>-0.330124</td>\n",
       "      <td>-0.833084</td>\n",
       "    </tr>\n",
       "  </tbody>\n",
       "</table>\n",
       "</div>"
      ],
      "text/plain": [
       "   GyroscopeX  GyroscopeY  GyroscopeZ  AccelerationX  AccelerationY  \\\n",
       "0   -0.424806   -0.654120    0.260132      -0.002014      -0.340256   \n",
       "1   -0.116530   -0.400120    0.165681      -0.114716      -0.278885   \n",
       "2    0.251794   -0.007258    0.211877      -0.121811      -0.246017   \n",
       "3    0.442580   -0.675886    0.014152      -0.100815      -0.295563   \n",
       "4    0.395401   -0.364630   -0.572730      -0.142670      -0.330124   \n",
       "\n",
       "   AccelerationZ  \n",
       "0      -1.272156  \n",
       "1      -1.183762  \n",
       "2      -1.011688  \n",
       "3      -0.878433  \n",
       "4      -0.833084  "
      ]
     },
     "execution_count": 55,
     "metadata": {},
     "output_type": "execute_result"
    }
   ],
   "source": [
    "X.head()"
   ]
  },
  {
   "cell_type": "code",
   "execution_count": 56,
   "id": "a24e4f48",
   "metadata": {},
   "outputs": [
    {
     "data": {
      "text/plain": [
       "'walking_upstairs'"
      ]
     },
     "execution_count": 56,
     "metadata": {},
     "output_type": "execute_result"
    }
   ],
   "source": [
    "y[5]"
   ]
  },
  {
   "cell_type": "code",
   "execution_count": 57,
   "id": "e7d3aa12",
   "metadata": {},
   "outputs": [
    {
     "name": "stdout",
     "output_type": "stream",
     "text": [
      "<class 'pandas.core.frame.DataFrame'>\n",
      "RangeIndex: 8617 entries, 0 to 8616\n",
      "Data columns (total 6 columns):\n",
      " #   Column         Non-Null Count  Dtype  \n",
      "---  ------         --------------  -----  \n",
      " 0   GyroscopeX     8617 non-null   float64\n",
      " 1   GyroscopeY     8617 non-null   float64\n",
      " 2   GyroscopeZ     8617 non-null   float64\n",
      " 3   AccelerationX  8617 non-null   float64\n",
      " 4   AccelerationY  8617 non-null   float64\n",
      " 5   AccelerationZ  8617 non-null   float64\n",
      "dtypes: float64(6)\n",
      "memory usage: 404.0 KB\n"
     ]
    }
   ],
   "source": [
    "X.info()"
   ]
  },
  {
   "cell_type": "code",
   "execution_count": 58,
   "id": "295e990f",
   "metadata": {},
   "outputs": [
    {
     "name": "stdout",
     "output_type": "stream",
     "text": [
      "number of numeric features:  6\n"
     ]
    }
   ],
   "source": [
    "num_cols = X._get_numeric_data().columns\n",
    "print(\"number of numeric features: \", num_cols.size)"
   ]
  },
  {
   "cell_type": "code",
   "execution_count": 59,
   "id": "56eeb690",
   "metadata": {},
   "outputs": [],
   "source": [
    "from sklearn import preprocessing\n",
    "encoder = preprocessing.LabelEncoder()"
   ]
  },
  {
   "cell_type": "code",
   "execution_count": 60,
   "id": "40849475",
   "metadata": {},
   "outputs": [
    {
     "data": {
      "text/plain": [
       "(8617,)"
      ]
     },
     "execution_count": 60,
     "metadata": {},
     "output_type": "execute_result"
    }
   ],
   "source": [
    "encoder.fit(y)\n",
    "y = encoder.transform(y)\n",
    "y.shape"
   ]
  },
  {
   "cell_type": "code",
   "execution_count": 61,
   "id": "5cb7b47c",
   "metadata": {},
   "outputs": [
    {
     "data": {
      "text/plain": [
       "array([5, 5, 5, ..., 0, 0, 0])"
      ]
     },
     "execution_count": 61,
     "metadata": {},
     "output_type": "execute_result"
    }
   ],
   "source": [
    "y"
   ]
  },
  {
   "cell_type": "code",
   "execution_count": 62,
   "id": "6727ae71",
   "metadata": {
    "scrolled": true
   },
   "outputs": [],
   "source": [
    "from sklearn.preprocessing import StandardScaler\n",
    "scaler = StandardScaler()\n",
    "X = scaler.fit_transform(X)"
   ]
  },
  {
   "cell_type": "code",
   "execution_count": 63,
   "id": "5f0cccda",
   "metadata": {},
   "outputs": [],
   "source": [
    "from sklearn.model_selection import train_test_split"
   ]
  },
  {
   "cell_type": "code",
   "execution_count": 64,
   "id": "416508fb",
   "metadata": {},
   "outputs": [],
   "source": [
    "X_train,X_test,y_train,y_test=train_test_split(X,y,test_size=0.20,random_state=100)"
   ]
  },
  {
   "cell_type": "code",
   "execution_count": 65,
   "id": "753e42e6",
   "metadata": {},
   "outputs": [
    {
     "data": {
      "text/plain": [
       "((6893, 6), (1724, 6), (6893,), (1724,))"
      ]
     },
     "execution_count": 65,
     "metadata": {},
     "output_type": "execute_result"
    }
   ],
   "source": [
    "X_train.shape, X_test.shape, y_train.shape, y_test.shape"
   ]
  },
  {
   "cell_type": "code",
   "execution_count": 66,
   "id": "488bc7d8",
   "metadata": {},
   "outputs": [],
   "source": [
    "from sklearn import metrics\n",
    "from sklearn.metrics import * \n",
    "from sklearn.model_selection import cross_val_score, GridSearchCV"
   ]
  },
  {
   "cell_type": "code",
   "execution_count": 67,
   "id": "5d228d79",
   "metadata": {},
   "outputs": [
    {
     "data": {
      "image/png": "[encoded data removed]",
      "text/plain": [
       "<Figure size 432x288 with 2 Axes>"
      ]
     },
     "metadata": {
      "needs_background": "light"
     },
     "output_type": "display_data"
    },
    {
     "name": "stdout",
     "output_type": "stream",
     "text": [
      "Total accuracy is:  0.787122969837587\n"
     ]
    }
   ],
   "source": [
    "from sklearn.tree import DecisionTreeClassifier\n",
    "\n",
    "dtc = DecisionTreeClassifier()\n",
    "dtc.fit(X_train, y_train)\n",
    "y_pred1 = dtc.predict(X_test)\n",
    "conf_mat = confusion_matrix(y_pred1, y_test)\n",
    "conf_mat_disp = ConfusionMatrixDisplay(confusion_matrix = conf_mat, display_labels = activities)\n",
    "conf_mat_disp.plot(cmap = 'Greens')\n",
    "plt.show()\n",
    "print(\"Total accuracy is: \", metrics.accuracy_score(y_test,y_pred1))"
   ]
  },
  {
   "cell_type": "code",
   "execution_count": 68,
   "id": "b9402324",
   "metadata": {},
   "outputs": [
    {
     "data": {
      "text/plain": [
       "RandomForestClassifier(n_estimators=10)"
      ]
     },
     "execution_count": 68,
     "metadata": {},
     "output_type": "execute_result"
    }
   ],
   "source": [
    "from sklearn.ensemble import RandomForestClassifier\n",
    "\n",
    "rfc = RandomForestClassifier(n_estimators=10)\n",
    "rfc.fit(X_train, y_train)"
   ]
  },
  {
   "cell_type": "code",
   "execution_count": 69,
   "id": "21112bb0",
   "metadata": {},
   "outputs": [
    {
     "data": {
      "image/png": "[encoded data removed]",
      "text/plain": [
       "<Figure size 432x288 with 2 Axes>"
      ]
     },
     "metadata": {
      "needs_background": "light"
     },
     "output_type": "display_data"
    },
    {
     "name": "stdout",
     "output_type": "stream",
     "text": [
      "Total accuracy is:  0.839907192575406\n"
     ]
    }
   ],
   "source": [
    "y_pred1 = rfc.predict(X_test)\n",
    "conf_mat = confusion_matrix(y_pred1, y_test)\n",
    "conf_mat_disp = ConfusionMatrixDisplay(confusion_matrix = conf_mat, display_labels = activities)\n",
    "conf_mat_disp.plot(cmap = 'Greens')\n",
    "plt.show()\n",
    "print(\"Total accuracy is: \", metrics.accuracy_score(y_test,y_pred1))"
   ]
  },
  {
   "cell_type": "code",
   "execution_count": 70,
   "id": "7227fc1d",
   "metadata": {},
   "outputs": [],
   "source": [
    "from sklearn.svm import SVC"
   ]
  },
  {
   "cell_type": "code",
   "execution_count": 71,
   "id": "3a44b630",
   "metadata": {},
   "outputs": [
    {
     "data": {
      "text/plain": [
       "SVC()"
      ]
     },
     "execution_count": 71,
     "metadata": {},
     "output_type": "execute_result"
    }
   ],
   "source": [
    "svc = SVC()\n",
    "svc.fit(X_train, y_train)\n",
    "SVC()"
   ]
  },
  {
   "cell_type": "code",
   "execution_count": 72,
   "id": "c685d017",
   "metadata": {},
   "outputs": [],
   "source": [
    "y_pred = svc.predict(X_test)"
   ]
  },
  {
   "cell_type": "code",
   "execution_count": 73,
   "id": "a50dc184",
   "metadata": {},
   "outputs": [
    {
     "name": "stdout",
     "output_type": "stream",
     "text": [
      "Model accuracy score with default hyperparameters: 0.8353\n"
     ]
    }
   ],
   "source": [
    "# compute and print accuracy score\n",
    "print('Model accuracy score with default hyperparameters: {0:0.4f}'. format(accuracy_score(y_test, y_pred)))"
   ]
  },
  {
   "cell_type": "code",
   "execution_count": 74,
   "id": "90cfba08",
   "metadata": {},
   "outputs": [
    {
     "name": "stdout",
     "output_type": "stream",
     "text": [
      "Using knn\n"
     ]
    },
    {
     "data": {
      "image/png": "[encoded data removed]",
      "text/plain": [
       "<Figure size 432x288 with 2 Axes>"
      ]
     },
     "metadata": {
      "needs_background": "light"
     },
     "output_type": "display_data"
    },
    {
     "name": "stdout",
     "output_type": "stream",
     "text": [
      "Total accuracy is:  0.8433874709976799\n"
     ]
    }
   ],
   "source": [
    "from sklearn.neighbors import  KNeighborsClassifier\n",
    "classifier = KNeighborsClassifier(n_neighbors=5, metric =\"minkowski\", p=2)\n",
    "classifier.fit(X_train,y_train)\n",
    "y_pred4 = classifier.predict(X_test)\n",
    "cm = confusion_matrix(y_test,y_pred4)\n",
    "conf_mat_diap = ConfusionMatrixDisplay(confusion_matrix=conf_mat, display_labels= activities)\n",
    "conf_mat_disp.plot(cmap='Greens')\n",
    "print(\"Using knn\")\n",
    "plt.show()\n",
    "print(\"Total accuracy is: \",metrics.accuracy_score(y_test,y_pred4))\n"
   ]
  },
  {
   "cell_type": "code",
   "execution_count": null,
   "id": "0c2d2a5c",
   "metadata": {},
   "outputs": [],
   "source": []
  }
 ],
 "metadata": {
  "kernelspec": {
   "display_name": "Python 3 (ipykernel)",
   "language": "python",
   "name": "python3"
  },
  "language_info": {
   "codemirror_mode": {
    "name": "ipython",
    "version": 3
   },
   "file_extension": ".py",
   "mimetype": "text/x-python",
   "name": "python",
   "nbconvert_exporter": "python",
   "pygments_lexer": "ipython3",
   "version": "3.9.6"
  }
 },
 "nbformat": 4,
 "nbformat_minor": 5
}
